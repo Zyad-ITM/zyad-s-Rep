{
  "cells": [
    {
      "cell_type": "markdown",
      "metadata": {
        "id": "view-in-github",
        "colab_type": "text"
      },
      "source": [
        "<a href=\"https://colab.research.google.com/github/Zyad-ITM/zyad-s-Rep/blob/main/P08_functions.ipynb\" target=\"_parent\"><img src=\"https://colab.research.google.com/assets/colab-badge.svg\" alt=\"Open In Colab\"/></a>"
      ]
    },
    {
      "cell_type": "markdown",
      "metadata": {
        "id": "n6LJt4dP2jMT"
      },
      "source": [
        "### Working with functions"
      ]
    },
    {
      "cell_type": "markdown",
      "metadata": {
        "id": "1Y_xxpoV2jMW"
      },
      "source": [
        "__Function definitions__"
      ]
    },
    {
      "cell_type": "code",
      "execution_count": null,
      "metadata": {
        "id": "EIouryCe2jMX"
      },
      "outputs": [],
      "source": [
        "def check_even(a):\n",
        "    if a % 2 == 0:\n",
        "        even = True\n",
        "    else:\n",
        "        even = False # odd\n",
        "    return even"
      ]
    },
    {
      "cell_type": "code",
      "execution_count": null,
      "metadata": {
        "scrolled": true,
        "id": "KeIbCbFE2jMZ",
        "outputId": "75173b94-6efd-430f-b535-a22f81458923"
      },
      "outputs": [
        {
          "data": {
            "text/plain": [
              "True"
            ]
          },
          "execution_count": 3,
          "metadata": {},
          "output_type": "execute_result"
        }
      ],
      "source": [
        "res = check_even(4)\n",
        "res"
      ]
    },
    {
      "cell_type": "code",
      "execution_count": null,
      "metadata": {
        "id": "79d25t412jMb"
      },
      "outputs": [],
      "source": [
        "def check_even2(a):\n",
        "    if (type(a) is int) and (a % 2 == 0):\n",
        "        even = True\n",
        "    else:\n",
        "        even = False # odd\n",
        "    return even"
      ]
    },
    {
      "cell_type": "code",
      "execution_count": null,
      "metadata": {
        "id": "ihlj4eON2jMb",
        "outputId": "e90a85f9-c2a2-438d-9c1c-9557dfaf5385"
      },
      "outputs": [
        {
          "data": {
            "text/plain": [
              "True"
            ]
          },
          "execution_count": 15,
          "metadata": {},
          "output_type": "execute_result"
        }
      ],
      "source": [
        "check_even2(4)"
      ]
    },
    {
      "cell_type": "code",
      "execution_count": null,
      "metadata": {
        "id": "86QaJYl62jMc"
      },
      "outputs": [],
      "source": [
        "def string_compare(str1, str2):\n",
        "    \"\"\"compares 2 strings passed as arguments.\n",
        "    Returns True or False depending on whether\n",
        "    they are the same or different.\"\"\"\n",
        "    if type(str1) is str and type(str2) is str:\n",
        "        print(\"Correct strings\")\n",
        "        if str1.upper().strip() == str2.upper().strip():\n",
        "            print(\"Equals\")\n",
        "            return True\n",
        "        else:\n",
        "            print(\"Diferrent\")\n",
        "            return False\n",
        "    else:\n",
        "        print(\"Variables must be of type string\")"
      ]
    },
    {
      "cell_type": "markdown",
      "metadata": {
        "id": "0jEIzVGm2jMd"
      },
      "source": [
        "__Llamada__ a la función"
      ]
    },
    {
      "cell_type": "code",
      "execution_count": null,
      "metadata": {
        "id": "AXpGEwcd2jMd",
        "outputId": "0571e1ec-0e07-475e-e1ec-f931bf1c31ea"
      },
      "outputs": [
        {
          "name": "stdout",
          "output_type": "stream",
          "text": [
            "Correct strings\n",
            "Equals\n"
          ]
        },
        {
          "data": {
            "text/plain": [
              "True"
            ]
          },
          "execution_count": 10,
          "metadata": {},
          "output_type": "execute_result"
        }
      ],
      "source": [
        "c1 = \"Madrid \"\n",
        "c2 = \"   MaDRID   \"\n",
        "res = string_compare(c2, c1)\n",
        "res"
      ]
    },
    {
      "cell_type": "code",
      "execution_count": null,
      "metadata": {
        "id": "yJBpIUxP2jMe",
        "outputId": "ae14fcff-ddfe-4e33-b442-396620be0bf4"
      },
      "outputs": [
        {
          "name": "stdout",
          "output_type": "stream",
          "text": [
            "Correct strings\n",
            "Equals\n"
          ]
        },
        {
          "data": {
            "text/plain": [
              "True"
            ]
          },
          "execution_count": 11,
          "metadata": {},
          "output_type": "execute_result"
        }
      ],
      "source": [
        "string_compare(str1=c1, str2=c2)"
      ]
    },
    {
      "cell_type": "code",
      "execution_count": null,
      "metadata": {
        "id": "H4bCCFK12jMe"
      },
      "outputs": [],
      "source": [
        "Function to get the day of the week from a date"
      ]
    },
    {
      "cell_type": "code",
      "execution_count": null,
      "metadata": {
        "id": "OqB4KhDg2jMf"
      },
      "outputs": [],
      "source": [
        "def week_day(v_date):\n",
        "    wd = v_date.weekday()\n",
        "    if wd == 0:\n",
        "        wds = \"Monday\"\n",
        "    elif wd == 1:\n",
        "        wds = \"Tuesday\"\n",
        "    elif wd == 2:\n",
        "        wds = \"Wednesday\"\n",
        "    elif wd == 3:\n",
        "        wds = \"Thursday\"\n",
        "    elif wd == 4:\n",
        "        wds = \"Friday\"\n",
        "    elif wd == 5:\n",
        "        wds = \"Saturday\"\n",
        "    else: wds = \"Sunday\"\n",
        "    return wds #"
      ]
    },
    {
      "cell_type": "code",
      "execution_count": null,
      "metadata": {
        "id": "ge6wIt4-2jMf",
        "outputId": "9b170011-6668-4ef7-dcb2-9cfb72af0b27"
      },
      "outputs": [
        {
          "data": {
            "text/plain": [
              "'Monday'"
            ]
          },
          "execution_count": 16,
          "metadata": {},
          "output_type": "execute_result"
        }
      ],
      "source": [
        "from datetime import date  #para trabajar con fecha\n",
        "d = date.today()\n",
        "#d = date(2024,2,19)\n",
        "week_day(v_date=d)"
      ]
    },
    {
      "cell_type": "markdown",
      "metadata": {
        "id": "PtdFANGY2jMf"
      },
      "source": [
        "data types in a function"
      ]
    },
    {
      "cell_type": "code",
      "execution_count": null,
      "metadata": {
        "id": "nOMpOxUf2jMg"
      },
      "outputs": [],
      "source": [
        "def repit_string(varstr: str,repit: int) -> str:\n",
        "    return varstr * repit"
      ]
    },
    {
      "cell_type": "code",
      "execution_count": null,
      "metadata": {
        "id": "UZpTA0pK2jMg",
        "outputId": "a552374d-8439-44bb-eda9-f3f1686229c2"
      },
      "outputs": [
        {
          "data": {
            "text/plain": [
              "'hellohellohellohello'"
            ]
          },
          "execution_count": 18,
          "metadata": {},
          "output_type": "execute_result"
        }
      ],
      "source": [
        "repit_string(\"hello\", 4)"
      ]
    },
    {
      "cell_type": "markdown",
      "metadata": {
        "id": "IgdG6gkL2jMg"
      },
      "source": [
        "Examples of lambda functions and operators: map, filter"
      ]
    },
    {
      "cell_type": "code",
      "execution_count": null,
      "metadata": {
        "id": "f1HfBNp42jMg"
      },
      "outputs": [],
      "source": [
        "def suma3(x):\n",
        "    return (x + 3)"
      ]
    },
    {
      "cell_type": "code",
      "execution_count": null,
      "metadata": {
        "id": "CK2kBRs_2jMh",
        "outputId": "a4ea1c2f-40bf-4cdb-ebfc-f7d49256e69f"
      },
      "outputs": [
        {
          "data": {
            "text/plain": [
              "5"
            ]
          },
          "execution_count": 20,
          "metadata": {},
          "output_type": "execute_result"
        }
      ],
      "source": [
        "suma3(2)"
      ]
    },
    {
      "cell_type": "code",
      "execution_count": null,
      "metadata": {
        "id": "Csdh7gVE2jMh",
        "outputId": "b81c7dfc-1738-4fbb-e9c1-d4797b8ef88b"
      },
      "outputs": [
        {
          "data": {
            "text/plain": [
              "5"
            ]
          },
          "execution_count": 21,
          "metadata": {},
          "output_type": "execute_result"
        }
      ],
      "source": [
        "(lambda x: x+3)(2)"
      ]
    },
    {
      "cell_type": "code",
      "execution_count": null,
      "metadata": {
        "id": "q8gsEXNQ2jMh"
      },
      "outputs": [],
      "source": [
        "suma3l = lambda x: x+3"
      ]
    },
    {
      "cell_type": "code",
      "execution_count": null,
      "metadata": {
        "id": "l1w68hN82jMh",
        "outputId": "ffe673e7-d549-48ed-eb57-3abf4f468311"
      },
      "outputs": [
        {
          "data": {
            "text/plain": [
              "6"
            ]
          },
          "execution_count": 23,
          "metadata": {},
          "output_type": "execute_result"
        }
      ],
      "source": [
        "suma3l(3)"
      ]
    },
    {
      "cell_type": "markdown",
      "metadata": {
        "id": "dwb1nm0Z2jMi"
      },
      "source": [
        "Ejemplos __map__, __filter__ y __reduce__"
      ]
    },
    {
      "cell_type": "code",
      "execution_count": null,
      "metadata": {
        "id": "WY40w77z2jMi",
        "outputId": "41c1b2c4-fcb3-4d55-c79f-7cbaff76367e"
      },
      "outputs": [
        {
          "data": {
            "text/plain": [
              "range(0, 10)"
            ]
          },
          "execution_count": 24,
          "metadata": {},
          "output_type": "execute_result"
        }
      ],
      "source": [
        "range(10)"
      ]
    },
    {
      "cell_type": "code",
      "execution_count": null,
      "metadata": {
        "id": "30hbK1AP2jMi",
        "outputId": "797e70d0-e740-4e78-e6c5-786fc29bc655"
      },
      "outputs": [
        {
          "data": {
            "text/plain": [
              "[4, 5, 6]"
            ]
          },
          "execution_count": 25,
          "metadata": {},
          "output_type": "execute_result"
        }
      ],
      "source": [
        "lis1 = [1,2,3]\n",
        "list(map(suma3, lis1))"
      ]
    },
    {
      "cell_type": "code",
      "execution_count": null,
      "metadata": {
        "id": "NIZiDvHg2jMj",
        "outputId": "e3ca5af7-3888-4159-b160-6231024e3d08"
      },
      "outputs": [
        {
          "data": {
            "text/plain": [
              "[4, 5, 6]"
            ]
          },
          "execution_count": 26,
          "metadata": {},
          "output_type": "execute_result"
        }
      ],
      "source": [
        "list(map(lambda x: x+3, lis1))"
      ]
    },
    {
      "cell_type": "code",
      "execution_count": null,
      "metadata": {
        "id": "TRmfDD_n2jMj",
        "outputId": "769e0071-8f38-499d-e281-756599f1a7d6"
      },
      "outputs": [
        {
          "data": {
            "text/plain": [
              "[1, 2, 3]"
            ]
          },
          "execution_count": 27,
          "metadata": {},
          "output_type": "execute_result"
        }
      ],
      "source": [
        "lis1"
      ]
    },
    {
      "cell_type": "code",
      "execution_count": null,
      "metadata": {
        "id": "BZVkW4Be2jMk",
        "outputId": "64a06414-a89f-43f2-f4a7-97e110bfaa9b"
      },
      "outputs": [
        {
          "data": {
            "text/plain": [
              "[False, False, True]"
            ]
          },
          "execution_count": 28,
          "metadata": {},
          "output_type": "execute_result"
        }
      ],
      "source": [
        "list(map(lambda x: x > 2, lis1))"
      ]
    },
    {
      "cell_type": "code",
      "execution_count": null,
      "metadata": {
        "id": "KeaKMSR92jMk",
        "outputId": "fdcc6a04-fa79-4d37-9215-f9b8bbcc237f"
      },
      "outputs": [
        {
          "data": {
            "text/plain": [
              "[3]"
            ]
          },
          "execution_count": 29,
          "metadata": {},
          "output_type": "execute_result"
        }
      ],
      "source": [
        "list(filter(lambda x: x > 2, lis1))"
      ]
    },
    {
      "cell_type": "code",
      "execution_count": null,
      "metadata": {
        "id": "rchjnqlG2jMk",
        "outputId": "0296d1ee-2819-44db-86fd-93f7eb638ce3"
      },
      "outputs": [
        {
          "data": {
            "text/plain": [
              "[5, 6]"
            ]
          },
          "execution_count": 30,
          "metadata": {},
          "output_type": "execute_result"
        }
      ],
      "source": [
        "list(filter(lambda x: x > 4 ,map(lambda x: x + 3, lis1) ))"
      ]
    },
    {
      "cell_type": "code",
      "execution_count": null,
      "metadata": {
        "id": "cc12ITVQ2jMl"
      },
      "outputs": [],
      "source": [
        "lis1 = list(range(5000000))"
      ]
    },
    {
      "cell_type": "code",
      "execution_count": null,
      "metadata": {
        "id": "C69lB-cy2jMl",
        "outputId": "a4832dc0-b695-4ae4-8f4f-315e7d26f742"
      },
      "outputs": [
        {
          "data": {
            "text/plain": [
              "3000000"
            ]
          },
          "execution_count": 31,
          "metadata": {},
          "output_type": "execute_result"
        }
      ],
      "source": [
        "len(lis1)"
      ]
    },
    {
      "cell_type": "code",
      "execution_count": null,
      "metadata": {
        "id": "KjYmp5Ia2jMl",
        "outputId": "f8a35062-3b2b-4380-d594-7a6a13f13239"
      },
      "outputs": [
        {
          "name": "stdout",
          "output_type": "stream",
          "text": [
            "2.08 s ± 39.6 ms per loop (mean ± std. dev. of 7 runs, 1 loop each)\n"
          ]
        }
      ],
      "source": [
        "%%timeit\n",
        "lis2 = list(map(lambda x: 2*x + 3, lis1))\n",
        "lis3 = list(map(lambda x: x - 4, lis2))\n",
        "lis4 = list(filter(lambda x: x % 5 == 0, lis3))"
      ]
    },
    {
      "cell_type": "code",
      "execution_count": null,
      "metadata": {
        "id": "t8APMrhb2jMm",
        "outputId": "193e712b-d0e3-4a4c-f384-d3ab44eff129"
      },
      "outputs": [
        {
          "data": {
            "text/plain": [
              "200000"
            ]
          },
          "execution_count": 21,
          "metadata": {},
          "output_type": "execute_result"
        }
      ],
      "source": [
        "len(lis3)"
      ]
    },
    {
      "cell_type": "code",
      "execution_count": null,
      "metadata": {
        "id": "MVkxuTUC2jMm",
        "outputId": "badb8726-3fe6-4963-9137-34899f569e61"
      },
      "outputs": [
        {
          "name": "stdout",
          "output_type": "stream",
          "text": [
            "2.07 s ± 163 ms per loop (mean ± std. dev. of 7 runs, 1 loop each)\n"
          ]
        }
      ],
      "source": [
        "%%timeit\n",
        "lis3 = list(filter(lambda x: x % 5 == 0, map(lambda x: x - 4 ,  map(lambda x: 2*x + 3, lis1) )))"
      ]
    },
    {
      "cell_type": "code",
      "execution_count": null,
      "metadata": {
        "id": "N8JU6KLV2jMm",
        "outputId": "e8f3eb5f-80bb-4810-8063-645b4a254c0a"
      },
      "outputs": [
        {
          "data": {
            "text/plain": [
              "200000"
            ]
          },
          "execution_count": 38,
          "metadata": {},
          "output_type": "execute_result"
        }
      ],
      "source": [
        "len(lis3)"
      ]
    },
    {
      "cell_type": "markdown",
      "metadata": {
        "id": "mIT9IRGZ2jMn"
      },
      "source": [
        "Review and monitor __performance__ using Python's cprofilers"
      ]
    },
    {
      "cell_type": "code",
      "execution_count": null,
      "metadata": {
        "id": "iq56Yxa-2jMn"
      },
      "outputs": [],
      "source": [
        "import cProfile"
      ]
    },
    {
      "cell_type": "code",
      "execution_count": null,
      "metadata": {
        "id": "aq9OEex82jMn"
      },
      "outputs": [],
      "source": [
        "profiler = cProfile.Profile()\n",
        "profiler.enable()"
      ]
    },
    {
      "cell_type": "code",
      "execution_count": null,
      "metadata": {
        "id": "J_ZyGq8S2jMx"
      },
      "outputs": [],
      "source": [
        "lis1 = list(range(100))\n",
        "lis3 = list(filter(lambda x: x % 5 == 0, map(lambda x: x - 4 ,  map(lambda x: 2*x + 3, lis1) )))"
      ]
    },
    {
      "cell_type": "code",
      "execution_count": null,
      "metadata": {
        "id": "17whmh--2jMx"
      },
      "outputs": [],
      "source": [
        "profiler.disable()\n",
        "profiler.dump_stats(\"example.stats\")"
      ]
    },
    {
      "cell_type": "markdown",
      "metadata": {
        "id": "R4c32naT2jMx"
      },
      "source": [
        "__ncalls__: It represents a number of times that function was called. It can have two numbers separated by a slash in case of recursive calls. The first number, in that case, represents total calls including recursive calls and the second number represents primitive calls excluding recursive calls.  \n",
        "__tottime__: It represents total time spent in that function excluding time spent in sub-functions of that function.  \n",
        "__percall__ : It represents tottime divided by ncalls.  \n",
        "__cumtime__ : It represents total time spent in that function including time-spent in sub-functions of that function.  \n",
        "__percall__ : It represents cumtime divided by ncalls.  \n",
        "__filename:lineno(function)__ : It represents filename, line number in file and function name.  "
      ]
    },
    {
      "cell_type": "code",
      "execution_count": null,
      "metadata": {
        "id": "0juTDdsB2jMy"
      },
      "outputs": [],
      "source": [
        "import pstats\n",
        "stats = pstats.Stats(\"example.stats\")\n",
        "stats.print_stats()"
      ]
    },
    {
      "cell_type": "markdown",
      "metadata": {
        "id": "T1CNKXM52jMy"
      },
      "source": [
        "Examples __reduces__"
      ]
    },
    {
      "cell_type": "code",
      "execution_count": null,
      "metadata": {
        "id": "HUhrZX8s2jMy"
      },
      "outputs": [],
      "source": [
        "from functools import reduce"
      ]
    },
    {
      "cell_type": "markdown",
      "metadata": {
        "id": "tSz5iCam2jMz"
      },
      "source": [
        "Add up all the elements"
      ]
    },
    {
      "cell_type": "code",
      "execution_count": null,
      "metadata": {
        "id": "H8aEvFvf2jMz",
        "outputId": "9639a72c-02f7-4f62-a10f-8b7a8b3b08c5"
      },
      "outputs": [
        {
          "data": {
            "text/plain": [
              "13"
            ]
          },
          "execution_count": 5,
          "metadata": {},
          "output_type": "execute_result"
        }
      ],
      "source": [
        "lis1 = [2, 4, 7]\n",
        "res = reduce((lambda x, y: x + y), lis1)\n",
        "res"
      ]
    },
    {
      "cell_type": "markdown",
      "metadata": {
        "id": "FvBuH1hI2jMz"
      },
      "source": [
        "Multiply all elements"
      ]
    },
    {
      "cell_type": "code",
      "execution_count": null,
      "metadata": {
        "id": "kFpu-pTg2jM0",
        "outputId": "80f6a676-d318-44fd-98fb-dd0120019fa5"
      },
      "outputs": [
        {
          "data": {
            "text/plain": [
              "56"
            ]
          },
          "execution_count": 7,
          "metadata": {},
          "output_type": "execute_result"
        }
      ],
      "source": [
        "res = reduce(lambda x, y: x * y, lis1)\n",
        "res"
      ]
    },
    {
      "cell_type": "markdown",
      "metadata": {
        "id": "p60jQ6SH2jM0"
      },
      "source": [
        "Getting the maximun"
      ]
    },
    {
      "cell_type": "code",
      "execution_count": null,
      "metadata": {
        "id": "nFf0AnBI2jM0"
      },
      "outputs": [],
      "source": [
        "lis1 = [5,2,7,4, 9]"
      ]
    },
    {
      "cell_type": "code",
      "execution_count": null,
      "metadata": {
        "id": "faPHJ9ze2jM1",
        "outputId": "3f3c2ba1-2808-4ad9-d4f7-7cc3a74fdf92"
      },
      "outputs": [
        {
          "data": {
            "text/plain": [
              "9"
            ]
          },
          "execution_count": 12,
          "metadata": {},
          "output_type": "execute_result"
        }
      ],
      "source": [
        "res = reduce((lambda x, y:  x if (x >= y) else y), lis1)\n",
        "res"
      ]
    },
    {
      "cell_type": "markdown",
      "metadata": {
        "id": "_ANXMnab2jM1"
      },
      "source": [
        "Add only even numbers"
      ]
    },
    {
      "cell_type": "code",
      "execution_count": null,
      "metadata": {
        "id": "oq1_Bg322jM1"
      },
      "outputs": [],
      "source": [
        "lis1 = [1,2,3,4,5,7,8]"
      ]
    },
    {
      "cell_type": "code",
      "execution_count": null,
      "metadata": {
        "id": "i--TpUn32jM2",
        "outputId": "317775c6-eb8b-47bb-e4fa-f06cfac9e692"
      },
      "outputs": [
        {
          "data": {
            "text/plain": [
              "14"
            ]
          },
          "execution_count": 22,
          "metadata": {},
          "output_type": "execute_result"
        }
      ],
      "source": [
        "lis1 = [0] + lis1\n",
        "res = reduce(lambda x, y: x + y if y % 2==0 else x, lis1)\n",
        "res"
      ]
    },
    {
      "cell_type": "markdown",
      "metadata": {
        "id": "iOT4L0PW2jM2"
      },
      "source": [
        "Function to copy files from one directory to another"
      ]
    },
    {
      "cell_type": "code",
      "execution_count": null,
      "metadata": {
        "id": "Q2ryNWS-2jM3"
      },
      "outputs": [],
      "source": [
        "import os    # module for working with the operating system"
      ]
    },
    {
      "cell_type": "code",
      "execution_count": null,
      "metadata": {
        "id": "8QB6jX8S2jM3",
        "outputId": "dc531758-0422-4cc3-f510-d94a143525c0"
      },
      "outputs": [
        {
          "data": {
            "text/plain": [
              "[<DirEntry '.ipynb_checkpoints'>,\n",
              " <DirEntry 'files'>,\n",
              " <DirEntry 'P01_working_with_variables.ipynb'>,\n",
              " <DirEntry 'P02_working_with_strings.ipynb'>,\n",
              " <DirEntry 'P04_lists_tuples_set.ipynb'>,\n",
              " <DirEntry 'P06_dates.ipynb'>,\n",
              " <DirEntry 'P06_dictionaries_types_conv.ipynb'>,\n",
              " <DirEntry 'P07_condicional_and_iterative_structures.ipynb'>,\n",
              " <DirEntry 'P08_functions.ipynb'>]"
            ]
          },
          "execution_count": 37,
          "metadata": {},
          "output_type": "execute_result"
        }
      ],
      "source": [
        "list(os.scandir(os.getcwd()))"
      ]
    },
    {
      "cell_type": "code",
      "execution_count": null,
      "metadata": {
        "id": "N7wuU0jI2jM3"
      },
      "outputs": [],
      "source": [
        "def get_csvs():\n",
        "    os.getcwd() # we get current directory\n",
        "    dir = os.getcwd() + '\\\\files'  # source directory of files\n",
        "    dir_des = 'dir_csv' # target directory for csvs\n",
        "    os.mkdir(dir_des)  # create the target directory\n",
        "    for fil in os.scandir(dir): # iterate over all files\n",
        "        fils = str(fil.name)\n",
        "        print(\"Files: \" + fils)\n",
        "        if fils.find('csv') > 0:\n",
        "            print(\"Copying ... \" + fils)\n",
        "            os.system('copy ' + dir + '\\\\' + fils + ' ' + os.getcwd() + '\\\\' + dir_des)"
      ]
    },
    {
      "cell_type": "code",
      "execution_count": null,
      "metadata": {
        "id": "lNRiaFEf2jM4",
        "outputId": "44ac2ba1-e94e-403a-f805-521078467fcc"
      },
      "outputs": [
        {
          "name": "stdout",
          "output_type": "stream",
          "text": [
            "Files: f_ventas1.csv\n",
            "Copying ... f_ventas1.csv\n",
            "Files: f_ventas1.txt\n",
            "Files: f_ventas1.xlsx\n",
            "Files: f_ventas_A.xlsx\n",
            "Files: f_ventas_B.xlsx\n",
            "Files: f_ventas_C.xlsx\n",
            "Files: HR-Employee-Attrition.csv\n",
            "Copying ... HR-Employee-Attrition.csv\n"
          ]
        }
      ],
      "source": [
        "get_csvs()"
      ]
    },
    {
      "cell_type": "markdown",
      "metadata": {
        "id": "Si6Fu79M2jM4"
      },
      "source": [
        "Working with fixed or variable number of arguments: * args and ** args"
      ]
    },
    {
      "cell_type": "markdown",
      "metadata": {
        "id": "W0YUAYwf2jM4"
      },
      "source": [
        "Fixed number of arguments"
      ]
    },
    {
      "cell_type": "code",
      "execution_count": null,
      "metadata": {
        "id": "k-KvYUWh2jM5"
      },
      "outputs": [],
      "source": [
        "def suma1 (var1, var2, var3): # the function expects 3 values\n",
        "    return (var1 + var2 + var3)"
      ]
    },
    {
      "cell_type": "code",
      "execution_count": null,
      "metadata": {
        "id": "CU7eC3Sf2jM5",
        "outputId": "cdb8fcd6-2ae0-4a6e-b125-a7297ba3caad"
      },
      "outputs": [
        {
          "data": {
            "text/plain": [
              "7"
            ]
          },
          "execution_count": 46,
          "metadata": {},
          "output_type": "execute_result"
        }
      ],
      "source": [
        "#suma1(2,3,5)\n",
        "suma1(2,4)"
      ]
    },
    {
      "cell_type": "code",
      "execution_count": null,
      "metadata": {
        "id": "Iimzy1R-2jM6"
      },
      "outputs": [],
      "source": [
        "def suma2 (*vars): # does not expect a defined number of values\n",
        "    print(type(vars))\n",
        "    accum = 0\n",
        "    for elem in vars:\n",
        "        accum+=elem\n",
        "    return accum"
      ]
    },
    {
      "cell_type": "code",
      "execution_count": null,
      "metadata": {
        "id": "xFYifcj82jM6",
        "outputId": "e1751d78-9283-4512-b207-0d010c5d4678"
      },
      "outputs": [
        {
          "name": "stdout",
          "output_type": "stream",
          "text": [
            "<class 'tuple'>\n"
          ]
        },
        {
          "data": {
            "text/plain": [
              "9"
            ]
          },
          "execution_count": 20,
          "metadata": {},
          "output_type": "execute_result"
        }
      ],
      "source": [
        "suma2(2,3,4)"
      ]
    },
    {
      "cell_type": "code",
      "execution_count": null,
      "metadata": {
        "id": "Tr-U2YTN2jM6"
      },
      "outputs": [],
      "source": [
        "def info_course(**info): # expects a variable number of key-value elements\n",
        "    for k, v in info.items(): # loop iterates over 2 elements (key and value)\n",
        "        print(k,\"=\",v)"
      ]
    },
    {
      "cell_type": "code",
      "execution_count": null,
      "metadata": {
        "id": "cDeloGoN2jM7",
        "outputId": "cdc64141-4de3-4e9e-d82c-8efe9956f0a8"
      },
      "outputs": [
        {
          "name": "stdout",
          "output_type": "stream",
          "text": [
            "course = Python\n",
            "duration = 20\n",
            "type = Programing\n"
          ]
        }
      ],
      "source": [
        "info_course(course=\"Python\", duration = 20, type =\"Programing\")"
      ]
    }
  ],
  "metadata": {
    "kernelspec": {
      "display_name": "Python 3 (ipykernel)",
      "language": "python",
      "name": "python3"
    },
    "language_info": {
      "codemirror_mode": {
        "name": "ipython",
        "version": 3
      },
      "file_extension": ".py",
      "mimetype": "text/x-python",
      "name": "python",
      "nbconvert_exporter": "python",
      "pygments_lexer": "ipython3",
      "version": "3.10.9"
    },
    "colab": {
      "provenance": [],
      "include_colab_link": true
    }
  },
  "nbformat": 4,
  "nbformat_minor": 0
}