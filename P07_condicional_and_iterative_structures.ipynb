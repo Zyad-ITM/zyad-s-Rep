{
 "cells": [
  {
   "cell_type": "markdown",
   "metadata": {},
   "source": [
    "# Working with conditional and iterative structures\n",
    "\n"
   ]
  },
  {
   "cell_type": "markdown",
   "metadata": {},
   "source": [
    "### Conditional structures"
   ]
  },
  {
   "cell_type": "markdown",
   "metadata": {},
   "source": [
    "Structure __if__ with 2 branches"
   ]
  },
  {
   "cell_type": "code",
   "execution_count": 2,
   "metadata": {},
   "outputs": [
    {
     "name": "stdout",
     "output_type": "stream",
     "text": [
      "underage\n",
      "final\n"
     ]
    }
   ],
   "source": [
    "age = 15\n",
    "if age = 18:\n",
    "    print(\"underage\")\n",
    "else:\n",
    "    print(\"over 18\")\n",
    "print(\"final\")"
   ]
  },
  {
   "cell_type": "markdown",
   "metadata": {},
   "source": [
    "Structure __if__ with several branches"
   ]
  },
  {
   "cell_type": "code",
   "execution_count": 3,
   "metadata": {},
   "outputs": [
    {
     "name": "stdout",
     "output_type": "stream",
     "text": [
      "young\n"
     ]
    }
   ],
   "source": [
    "age = 33\n",
    "if age < 13: \n",
    "    print( \"child\" ) \n",
    "elif age < 18: \n",
    "    print( \"teenager\" )\n",
    "elif age < 35: \n",
    "    print( \"young\" ) \n",
    "elif age < 55: \n",
    "    print( \"median age\" ) \n",
    "elif age < 75:\n",
    "    print( \"old\" )\n",
    "else: print(\"elderly\")"
   ]
  },
  {
   "cell_type": "markdown",
   "metadata": {},
   "source": [
    "Using link operators in conditions"
   ]
  },
  {
   "cell_type": "code",
   "execution_count": 4,
   "metadata": {},
   "outputs": [
    {
     "name": "stdout",
     "output_type": "stream",
     "text": [
      "condition1\n"
     ]
    }
   ],
   "source": [
    "var1 = 5\n",
    "var2 = 'A'\n",
    "if (var1 == 5) and (var2 == 'A'):\n",
    "    print(\"condition1\")"
   ]
  },
  {
   "cell_type": "code",
   "execution_count": 5,
   "metadata": {},
   "outputs": [
    {
     "name": "stdout",
     "output_type": "stream",
     "text": [
      "condition1\n"
     ]
    }
   ],
   "source": [
    "var1 = 5\n",
    "var2 = 'A'\n",
    "if (var1 == 5) & (var2 == 'A'):\n",
    "    print(\"condition1\")"
   ]
  },
  {
   "cell_type": "code",
   "execution_count": 6,
   "metadata": {},
   "outputs": [
    {
     "name": "stdout",
     "output_type": "stream",
     "text": [
      "condition1\n"
     ]
    }
   ],
   "source": [
    "var1 = 5\n",
    "var2 = 'A'\n",
    "if (var1 == 5) or (var2 == 'B'):\n",
    "    print(\"condition1\")"
   ]
  },
  {
   "cell_type": "code",
   "execution_count": 7,
   "metadata": {},
   "outputs": [
    {
     "name": "stdout",
     "output_type": "stream",
     "text": [
      "condition1\n"
     ]
    }
   ],
   "source": [
    "var1 = 5\n",
    "var2 = 'A'\n",
    "if (var1 == 5) | (var2 == 'B'):\n",
    "    print(\"condition1\")"
   ]
  },
  {
   "cell_type": "code",
   "execution_count": 8,
   "metadata": {},
   "outputs": [
    {
     "name": "stdout",
     "output_type": "stream",
     "text": [
      "condition1\n"
     ]
    }
   ],
   "source": [
    "var1 = 5\n",
    "var2 = 'A'\n",
    "if all([var1 == 5 , var2 == 'A']):\n",
    "    print(\"condition1\")"
   ]
  },
  {
   "cell_type": "code",
   "execution_count": 9,
   "metadata": {},
   "outputs": [
    {
     "name": "stdout",
     "output_type": "stream",
     "text": [
      "condition1\n"
     ]
    }
   ],
   "source": [
    "var1 = 5\n",
    "var2 = 'A'\n",
    "listacond = [var1 == 5 , var2 == 'A']\n",
    "if all(listacond):\n",
    "    print(\"condition1\")"
   ]
  },
  {
   "cell_type": "code",
   "execution_count": 10,
   "metadata": {},
   "outputs": [
    {
     "name": "stdout",
     "output_type": "stream",
     "text": [
      "condition1\n"
     ]
    }
   ],
   "source": [
    "var1 = 5\n",
    "var2 = 'A'\n",
    "if any([var1 == 5 , var2 == 'B']):\n",
    "    print(\"condition1\")"
   ]
  },
  {
   "cell_type": "markdown",
   "metadata": {},
   "source": [
    "Another way is to write the conditionals"
   ]
  },
  {
   "cell_type": "code",
   "execution_count": 11,
   "metadata": {
    "scrolled": true
   },
   "outputs": [
    {
     "data": {
      "text/plain": [
       "'Under 18'"
      ]
     },
     "execution_count": 11,
     "metadata": {},
     "output_type": "execute_result"
    }
   ],
   "source": [
    "age = 10\n",
    "res = \"Over 18\" if age >= 18 else \"Under 18\"\n",
    "res"
   ]
  },
  {
   "cell_type": "code",
   "execution_count": 12,
   "metadata": {},
   "outputs": [
    {
     "data": {
      "text/plain": [
       "'Under 18'"
      ]
     },
     "execution_count": 12,
     "metadata": {},
     "output_type": "execute_result"
    }
   ],
   "source": [
    "age = 10\n",
    "if age >= 18:\n",
    "    res = \"Over 18\"\n",
    "else:\n",
    "    res = \"Under 18\"\n",
    "res"
   ]
  },
  {
   "cell_type": "code",
   "execution_count": 13,
   "metadata": {},
   "outputs": [],
   "source": [
    "a = 8\n",
    "if a > 10 and a < 30:\n",
    "    print(\"OK\")"
   ]
  },
  {
   "cell_type": "code",
   "execution_count": 14,
   "metadata": {},
   "outputs": [],
   "source": [
    "if 10 < a < 30:\n",
    "    print(\"OK\")"
   ]
  },
  {
   "cell_type": "markdown",
   "metadata": {},
   "source": [
    "Creating conditionals using dictionaries"
   ]
  },
  {
   "cell_type": "code",
   "execution_count": 15,
   "metadata": {},
   "outputs": [],
   "source": [
    "customer_type = 'j'"
   ]
  },
  {
   "cell_type": "code",
   "execution_count": 16,
   "metadata": {},
   "outputs": [
    {
     "data": {
      "text/plain": [
       "4"
      ]
     },
     "execution_count": 16,
     "metadata": {},
     "output_type": "execute_result"
    }
   ],
   "source": [
    "if customer_type == 'A':\n",
    "    segmento = 1\n",
    "elif customer_type == 'B':\n",
    "    segmento = 2\n",
    "elif customer_type == 'C':\n",
    "    segmento = 3\n",
    "else:\n",
    "    segmento = 4\n",
    "segmento"
   ]
  },
  {
   "cell_type": "code",
   "execution_count": 17,
   "metadata": {},
   "outputs": [
    {
     "data": {
      "text/plain": [
       "4"
      ]
     },
     "execution_count": 17,
     "metadata": {},
     "output_type": "execute_result"
    }
   ],
   "source": [
    "dicseg = {'A':1, 'B':2, 'C':3}\n",
    "if customer_type in dicseg:\n",
    "    segment = dicseg[customer_type]\n",
    "else:\n",
    "    segment = 4\n",
    "segment"
   ]
  },
  {
   "cell_type": "markdown",
   "metadata": {},
   "source": [
    "Since version 3.10 we have the match - case structure"
   ]
  },
  {
   "cell_type": "code",
   "execution_count": 18,
   "metadata": {},
   "outputs": [
    {
     "data": {
      "text/plain": [
       "sys.version_info(major=3, minor=10, micro=9, releaselevel='final', serial=0)"
      ]
     },
     "execution_count": 18,
     "metadata": {},
     "output_type": "execute_result"
    }
   ],
   "source": [
    "import sys\n",
    "sys.version_info"
   ]
  },
  {
   "cell_type": "code",
   "execution_count": 19,
   "metadata": {},
   "outputs": [
    {
     "name": "stdout",
     "output_type": "stream",
     "text": [
      "No match found\n"
     ]
    }
   ],
   "source": [
    "var = 'Hello'\n",
    "match var:\n",
    "    case 'Hello, World!':\n",
    "        print('Hello to you too!')\n",
    "    case 'Goodbye, World!':\n",
    "        print('See you later')\n",
    "    case other:\n",
    "        print('No match found')"
   ]
  },
  {
   "cell_type": "markdown",
   "metadata": {},
   "source": [
    "## Loops"
   ]
  },
  {
   "cell_type": "markdown",
   "metadata": {},
   "source": [
    "Example of __loops__: working with __lists__"
   ]
  },
  {
   "cell_type": "code",
   "execution_count": 20,
   "metadata": {},
   "outputs": [
    {
     "name": "stdout",
     "output_type": "stream",
     "text": [
      "1\n",
      "2\n",
      "3\n",
      "4\n",
      "5\n",
      "6\n",
      "7\n",
      "8\n",
      "36\n"
     ]
    }
   ],
   "source": [
    "list1 = [1,2,3,4,5,6,7,8]\n",
    "accum = 0\n",
    "for val in list1:\n",
    "    print(val)\n",
    "    accum = accum + val\n",
    "print(accum)"
   ]
  },
  {
   "cell_type": "markdown",
   "metadata": {},
   "source": [
    "Starting from the following list of dictionaries, we add a new field to all dictionaries"
   ]
  },
  {
   "cell_type": "code",
   "execution_count": 22,
   "metadata": {},
   "outputs": [
    {
     "data": {
      "text/plain": [
       "[{'cod_customer': 'A100', 'ant': 3, 'invoice': 45.6},\n",
       " {'cod_customer': 'A101', 'ant': 1, 'invoice': 15.2},\n",
       " {'cod_customer': 'B101', 'ant': 5, 'invoice': 28.5},\n",
       " {'cod_customer': 'C102', 'ant': 8, 'invoice': 22.3}]"
      ]
     },
     "execution_count": 22,
     "metadata": {},
     "output_type": "execute_result"
    }
   ],
   "source": [
    "customers = [\n",
    "{'cod_customer':'A100', 'ant':3, 'invoice': 45.6},\n",
    "{'cod_customer':'A101', 'ant':1, 'invoice': 15.2},\n",
    "{'cod_customer':'B101', 'ant':5, 'invoice': 28.5},\n",
    "{'cod_customer':'C102', 'ant':8, 'invoice': 22.3}\n",
    "]\n",
    "customers"
   ]
  },
  {
   "cell_type": "code",
   "execution_count": 23,
   "metadata": {},
   "outputs": [
    {
     "data": {
      "text/plain": [
       "dict"
      ]
     },
     "execution_count": 23,
     "metadata": {},
     "output_type": "execute_result"
    }
   ],
   "source": [
    "type(customers[0])"
   ]
  },
  {
   "cell_type": "code",
   "execution_count": 24,
   "metadata": {},
   "outputs": [
    {
     "name": "stdout",
     "output_type": "stream",
     "text": [
      "A100\n",
      "<class 'dict'>\n",
      "A101\n",
      "<class 'dict'>\n",
      "B101\n",
      "<class 'dict'>\n",
      "C102\n",
      "<class 'dict'>\n"
     ]
    }
   ],
   "source": [
    "for cli in customers:\n",
    "    print(cli['cod_customer'])\n",
    "    print(type(cli))"
   ]
  },
  {
   "cell_type": "code",
   "execution_count": 25,
   "metadata": {},
   "outputs": [
    {
     "name": "stdout",
     "output_type": "stream",
     "text": [
      "111.6\n"
     ]
    }
   ],
   "source": [
    "accum_invoice = 0\n",
    "for cli in customers:\n",
    "    accum_invoice = accum_invoice + cli['invoice']\n",
    "print(accum_invoice)"
   ]
  },
  {
   "cell_type": "code",
   "execution_count": 26,
   "metadata": {},
   "outputs": [
    {
     "data": {
      "text/plain": [
       "[{'cod_customer': 'A100', 'ant': 3, 'invoice': 45.6},\n",
       " {'cod_customer': 'A101', 'ant': 1, 'invoice': 15.2},\n",
       " {'cod_customer': 'B101', 'ant': 5, 'invoice': 28.5},\n",
       " {'cod_customer': 'C102', 'ant': 8, 'invoice': 22.3}]"
      ]
     },
     "execution_count": 26,
     "metadata": {},
     "output_type": "execute_result"
    }
   ],
   "source": [
    "customers"
   ]
  },
  {
   "cell_type": "code",
   "execution_count": 27,
   "metadata": {},
   "outputs": [
    {
     "name": "stdout",
     "output_type": "stream",
     "text": [
      "B101\n",
      "C102\n"
     ]
    },
    {
     "data": {
      "text/plain": [
       "['B101', 'C102']"
      ]
     },
     "execution_count": 27,
     "metadata": {},
     "output_type": "execute_result"
    }
   ],
   "source": [
    "lis_cli2 = []\n",
    "for cli in customers:\n",
    "    if cli['ant'] >= 4 and cli['invoice'] >= 15:\n",
    "        print(cli['cod_customer'])\n",
    "        lis_cli2.append(cli['cod_customer'])\n",
    "lis_cli2"
   ]
  },
  {
   "cell_type": "code",
   "execution_count": 39,
   "metadata": {},
   "outputs": [
    {
     "data": {
      "text/plain": [
       "[{'cod_cliente': 'A100', 'ant': 3, 'consumo': 45.6},\n",
       " {'cod_cliente': 'A101', 'ant': 1, 'consumo': 15.2},\n",
       " {'cod_cliente': 'B101', 'ant': 5, 'consumo': 28.5},\n",
       " {'cod_cliente': 'C102', 'ant': 8, 'consumo': 22.3}]"
      ]
     },
     "execution_count": 39,
     "metadata": {},
     "output_type": "execute_result"
    }
   ],
   "source": [
    "customers"
   ]
  },
  {
   "cell_type": "code",
   "execution_count": 28,
   "metadata": {},
   "outputs": [
    {
     "data": {
      "text/plain": [
       "[{'cod_customer': 'A100', 'ant': 3, 'invoice': 45.6, 'customer_type': 'A'},\n",
       " {'cod_customer': 'A101', 'ant': 1, 'invoice': 15.2, 'customer_type': 'B'},\n",
       " {'cod_customer': 'B101', 'ant': 5, 'invoice': 28.5, 'customer_type': 'B'},\n",
       " {'cod_customer': 'C102', 'ant': 8, 'invoice': 22.3, 'customer_type': 'B'}]"
      ]
     },
     "execution_count": 28,
     "metadata": {},
     "output_type": "execute_result"
    }
   ],
   "source": [
    "for cli in customers:\n",
    "    if cli['invoice'] >= 30:\n",
    "        cli['customer_type'] = 'A'\n",
    "    else:\n",
    "        cli['customer_type'] = 'B'\n",
    "customers"
   ]
  },
  {
   "cell_type": "markdown",
   "metadata": {},
   "source": [
    "Instructions __break__ and __continue__."
   ]
  },
  {
   "cell_type": "code",
   "execution_count": 29,
   "metadata": {},
   "outputs": [
    {
     "name": "stdout",
     "output_type": "stream",
     "text": [
      "2\n",
      "4\n",
      "6\n",
      "8\n",
      "10\n"
     ]
    }
   ],
   "source": [
    "list2 = [2,4,5,6,7,8,10]\n",
    "for val in list2:\n",
    "    if val%2 > 0: # if not an even value skip to the next one\n",
    "        continue\n",
    "    print(val) "
   ]
  },
  {
   "cell_type": "code",
   "execution_count": 30,
   "metadata": {},
   "outputs": [
    {
     "name": "stdout",
     "output_type": "stream",
     "text": [
      "2\n",
      "4\n"
     ]
    }
   ],
   "source": [
    "for val in list2:\n",
    "    if val%2 > 0: # if not an even value interrupts the loop\n",
    "        break\n",
    "    print(val) "
   ]
  },
  {
   "cell_type": "markdown",
   "metadata": {},
   "source": [
    "Use of __ranges__"
   ]
  },
  {
   "cell_type": "code",
   "execution_count": 31,
   "metadata": {},
   "outputs": [
    {
     "data": {
      "text/plain": [
       "[1, 2, 3, 4, 5, 6, 7, 8, 9]"
      ]
     },
     "execution_count": 31,
     "metadata": {},
     "output_type": "execute_result"
    }
   ],
   "source": [
    "list(range(1,10,1))"
   ]
  },
  {
   "cell_type": "code",
   "execution_count": 32,
   "metadata": {},
   "outputs": [
    {
     "name": "stdout",
     "output_type": "stream",
     "text": [
      "1\n",
      "3\n",
      "5\n",
      "7\n",
      "9\n",
      "11\n",
      "13\n",
      "15\n",
      "17\n",
      "19\n"
     ]
    }
   ],
   "source": [
    "for i in range(1,20,2):  \n",
    "    # loop prints 1 3 5 7 9 ...\n",
    "    print(i)"
   ]
  },
  {
   "cell_type": "code",
   "execution_count": 33,
   "metadata": {},
   "outputs": [
    {
     "name": "stdout",
     "output_type": "stream",
     "text": [
      "1\n",
      "3\n",
      "5\n",
      "7\n",
      "9\n",
      "11\n",
      "13\n",
      "15\n",
      "17\n",
      "19\n",
      "0\n",
      "-1\n",
      "-2\n",
      "-3\n",
      "-4\n",
      "-5\n",
      "-6\n",
      "-7\n",
      "-8\n",
      "-9\n"
     ]
    },
    {
     "data": {
      "text/plain": [
       "[1, 3, 5, 7, 9]"
      ]
     },
     "execution_count": 33,
     "metadata": {},
     "output_type": "execute_result"
    }
   ],
   "source": [
    "for i in range(1,20,2):  \n",
    "    # loop prints 1 3 5 7 9 \n",
    "    print(i)\n",
    "     \n",
    "for i in range(0,-10,-1):  \n",
    "    print(i)\n",
    "     \n",
    "lis1 = list(range(1,10,2))\n",
    "lis1"
   ]
  },
  {
   "cell_type": "markdown",
   "metadata": {},
   "source": [
    "Example loop that iterate list of lists "
   ]
  },
  {
   "cell_type": "code",
   "execution_count": 34,
   "metadata": {},
   "outputs": [
    {
     "data": {
      "text/plain": [
       "[['type 1', 1],\n",
       " ['type 1', 2],\n",
       " ['type 3', 4],\n",
       " ['type 1', 2],\n",
       " ['type 2', 2],\n",
       " ['type 4', 3],\n",
       " ['type 3', 1]]"
      ]
     },
     "execution_count": 34,
     "metadata": {},
     "output_type": "execute_result"
    }
   ],
   "source": [
    "list1 = [['type 1', 1],['type 1', 2],['type 3', 4],['type 1', 2],['type 2', 2],['type 4', 3],['type 3', 1]]\n",
    "list1"
   ]
  },
  {
   "cell_type": "markdown",
   "metadata": {},
   "source": [
    "Count those of a specific type"
   ]
  },
  {
   "cell_type": "code",
   "execution_count": 35,
   "metadata": {},
   "outputs": [
    {
     "name": "stdout",
     "output_type": "stream",
     "text": [
      "['type 1', 1]\n",
      "['type 1', 2]\n",
      "['type 3', 4]\n",
      "['type 1', 2]\n",
      "['type 2', 2]\n",
      "['type 4', 3]\n",
      "['type 3', 1]\n"
     ]
    },
    {
     "data": {
      "text/plain": [
       "5"
      ]
     },
     "execution_count": 35,
     "metadata": {},
     "output_type": "execute_result"
    }
   ],
   "source": [
    "sum = 0\n",
    "for lisitem in list1:\n",
    "    print(lisitem)\n",
    "    if lisitem[0]=='type 1':\n",
    "        sum = sum + lisitem[1]\n",
    "sum"
   ]
  },
  {
   "cell_type": "markdown",
   "metadata": {},
   "source": [
    "Nested loops"
   ]
  },
  {
   "cell_type": "code",
   "execution_count": 37,
   "metadata": {},
   "outputs": [
    {
     "name": "stdout",
     "output_type": "stream",
     "text": [
      "Madrid\n",
      "M\n",
      "a\n",
      "d\n",
      "r\n",
      "i\n",
      "d\n",
      "Murcia\n",
      "M\n",
      "u\n",
      "r\n",
      "c\n",
      "i\n",
      "a\n",
      "Valladolid\n",
      "V\n",
      "a\n",
      "l\n",
      "l\n",
      "a\n",
      "d\n",
      "o\n",
      "l\n",
      "i\n",
      "d\n"
     ]
    }
   ],
   "source": [
    "listc = [\"Madrid\", \"Murcia\", \"Valladolid\"]\n",
    "for city in listc:\n",
    "    print(city)\n",
    "    for c in city:\n",
    "        print(c)"
   ]
  },
  {
   "cell_type": "code",
   "execution_count": 39,
   "metadata": {},
   "outputs": [
    {
     "name": "stdout",
     "output_type": "stream",
     "text": [
      "list1 [1, 2, 3]\n",
      "item 1\n",
      "item 2\n",
      "item 3\n",
      "list1 ['a', 'b', 'c']\n",
      "item a\n",
      "item b\n",
      "item c\n"
     ]
    }
   ],
   "source": [
    "list1 = [[1,2,3],['a','b','c']]\n",
    "for lis in list1:\n",
    "    print(\"list1\", lis)\n",
    "    for item in lis:\n",
    "        print(\"item\", item)"
   ]
  },
  {
   "cell_type": "markdown",
   "metadata": {},
   "source": [
    "Loops that work with two vales in each iteration"
   ]
  },
  {
   "cell_type": "code",
   "execution_count": 41,
   "metadata": {},
   "outputs": [
    {
     "data": {
      "text/plain": [
       "['Madrid', 'Murcia', 'Valladolid']"
      ]
     },
     "execution_count": 41,
     "metadata": {},
     "output_type": "execute_result"
    }
   ],
   "source": [
    "listc"
   ]
  },
  {
   "cell_type": "code",
   "execution_count": 42,
   "metadata": {},
   "outputs": [
    {
     "data": {
      "text/plain": [
       "[(0, 'Madrid'), (1, 'Murcia'), (2, 'Valladolid')]"
      ]
     },
     "execution_count": 42,
     "metadata": {},
     "output_type": "execute_result"
    }
   ],
   "source": [
    "list(enumerate(listc))"
   ]
  },
  {
   "cell_type": "code",
   "execution_count": 44,
   "metadata": {
    "scrolled": true
   },
   "outputs": [
    {
     "name": "stdout",
     "output_type": "stream",
     "text": [
      "0 Madrid\n",
      "1 Murcia\n",
      "2 Valladolid\n"
     ]
    }
   ],
   "source": [
    "# The enumerate function generates an index\n",
    "for i, val in enumerate(listc): \n",
    "    print(i,val)"
   ]
  },
  {
   "cell_type": "code",
   "execution_count": 45,
   "metadata": {},
   "outputs": [
    {
     "name": "stdout",
     "output_type": "stream",
     "text": [
      "(0, 'Madrid')\n",
      "(1, 'Murcia')\n",
      "(2, 'Valladolid')\n"
     ]
    }
   ],
   "source": [
    "for val in enumerate(listc): \n",
    "    print(val)"
   ]
  },
  {
   "cell_type": "code",
   "execution_count": 46,
   "metadata": {},
   "outputs": [
    {
     "data": {
      "text/plain": [
       "[('a', 1, 10), ('b', 2, 20), ('c', 3, 30)]"
      ]
     },
     "execution_count": 46,
     "metadata": {},
     "output_type": "execute_result"
    }
   ],
   "source": [
    "lis3 = [('a',1,10), ('b',2,20), ('c',3,30)]\n",
    "lis3"
   ]
  },
  {
   "cell_type": "code",
   "execution_count": 47,
   "metadata": {},
   "outputs": [
    {
     "name": "stdout",
     "output_type": "stream",
     "text": [
      "a 1 10\n",
      "b 2 20\n",
      "c 3 30\n"
     ]
    }
   ],
   "source": [
    "for i, j, k in lis3:\n",
    "    print(i,j,k)"
   ]
  },
  {
   "cell_type": "markdown",
   "metadata": {},
   "source": [
    "type __while__ loops"
   ]
  },
  {
   "cell_type": "code",
   "execution_count": 48,
   "metadata": {},
   "outputs": [
    {
     "name": "stdout",
     "output_type": "stream",
     "text": [
      "1\n",
      "2\n",
      "3\n",
      "4\n",
      "5\n",
      "6\n",
      "7\n",
      "8\n",
      "9\n",
      "10\n"
     ]
    }
   ],
   "source": [
    "a = 1        \n",
    "while a <= 10:\n",
    "    print(a)\n",
    "    a+=1"
   ]
  },
  {
   "cell_type": "markdown",
   "metadata": {},
   "source": [
    "From the current date obtain the following 10 days"
   ]
  },
  {
   "cell_type": "code",
   "execution_count": 65,
   "metadata": {},
   "outputs": [
    {
     "name": "stdout",
     "output_type": "stream",
     "text": [
      "2024-03-25\n"
     ]
    }
   ],
   "source": [
    "from datetime import date  \n",
    "from datetime import datetime   \n",
    "from datetime import timedelta   \n",
    "date_ini = date.today()\n",
    "print(date_ini)"
   ]
  },
  {
   "cell_type": "code",
   "execution_count": 57,
   "metadata": {},
   "outputs": [
    {
     "name": "stdout",
     "output_type": "stream",
     "text": [
      "1\n",
      "2024-03-26\n",
      "2\n",
      "2024-03-27\n",
      "3\n",
      "2024-03-28\n",
      "4\n",
      "2024-03-29\n",
      "5\n",
      "2024-03-30\n",
      "6\n",
      "2024-03-31\n",
      "7\n",
      "2024-04-01\n",
      "8\n",
      "2024-04-02\n",
      "9\n",
      "2024-04-03\n",
      "10\n",
      "2024-04-04\n"
     ]
    }
   ],
   "source": [
    "i = 0\n",
    "while i < 10:\n",
    "    i+=1\n",
    "    date = date_ini + timedelta(days=i)\n",
    "    print(i)\n",
    "    print(date)"
   ]
  },
  {
   "cell_type": "code",
   "execution_count": 58,
   "metadata": {},
   "outputs": [
    {
     "name": "stdout",
     "output_type": "stream",
     "text": [
      "1\n",
      "2024-03-26\n",
      "2\n",
      "2024-03-27\n",
      "3\n",
      "2024-03-28\n",
      "4\n",
      "2024-03-29\n",
      "5\n",
      "2024-03-30\n",
      "6\n",
      "2024-03-31\n",
      "7\n",
      "2024-04-01\n",
      "8\n",
      "2024-04-02\n",
      "9\n",
      "2024-04-03\n",
      "10\n",
      "2024-04-04\n"
     ]
    }
   ],
   "source": [
    "for i in range(1,11,1):\n",
    "    print(i)\n",
    "    date = date_ini + timedelta(days=i)\n",
    "    print(date)"
   ]
  },
  {
   "cell_type": "markdown",
   "metadata": {},
   "source": [
    "From a specific date to get every day of the month until change of month, excluding weekends"
   ]
  },
  {
   "cell_type": "code",
   "execution_count": 68,
   "metadata": {},
   "outputs": [
    {
     "data": {
      "text/plain": [
       "3"
      ]
     },
     "execution_count": 68,
     "metadata": {},
     "output_type": "execute_result"
    }
   ],
   "source": [
    "v_date = date(2024,3,14)\n",
    "v_date.weekday()"
   ]
  },
  {
   "cell_type": "code",
   "execution_count": 73,
   "metadata": {},
   "outputs": [],
   "source": [
    "date_ini = date(2024,5,14)"
   ]
  },
  {
   "cell_type": "code",
   "execution_count": 75,
   "metadata": {},
   "outputs": [
    {
     "name": "stdout",
     "output_type": "stream",
     "text": [
      "2024-05-14\n",
      "2024-05-15\n",
      "2024-05-16\n",
      "2024-05-17\n",
      "2024-05-20\n",
      "2024-05-21\n",
      "2024-05-22\n",
      "2024-05-23\n",
      "2024-05-24\n",
      "2024-05-27\n",
      "2024-05-28\n",
      "2024-05-29\n",
      "2024-05-30\n",
      "2024-05-31\n"
     ]
    }
   ],
   "source": [
    "i = 0\n",
    "v_date = date_ini \n",
    "while v_date.month == date_ini.month:\n",
    "    if v_date.weekday() != 5 and v_date.weekday() != 6: # another way:  if v_date.weekday() not in [5,6]:\n",
    "        print(v_date)\n",
    "    i = i + 1\n",
    "    v_date = date_ini + timedelta(days=i)"
   ]
  },
  {
   "cell_type": "markdown",
   "metadata": {},
   "source": [
    "Another way to work with loops -> list comprehension \n",
    "\n",
    "[expression for x in iterable if any_condition]"
   ]
  },
  {
   "cell_type": "code",
   "execution_count": 76,
   "metadata": {},
   "outputs": [],
   "source": [
    "lis1 = [1,2,3,4,5]"
   ]
  },
  {
   "cell_type": "code",
   "execution_count": 77,
   "metadata": {
    "scrolled": true
   },
   "outputs": [
    {
     "data": {
      "text/plain": [
       "[2, 4, 6, 8, 10]"
      ]
     },
     "execution_count": 77,
     "metadata": {},
     "output_type": "execute_result"
    }
   ],
   "source": [
    "lis2 = []\n",
    "for i in lis1:\n",
    "    lis2.append(i*2)\n",
    "lis2"
   ]
  },
  {
   "cell_type": "markdown",
   "metadata": {},
   "source": [
    "The same with a list comprehension"
   ]
  },
  {
   "cell_type": "code",
   "execution_count": 78,
   "metadata": {},
   "outputs": [
    {
     "data": {
      "text/plain": [
       "[2, 4, 6, 8, 10]"
      ]
     },
     "execution_count": 78,
     "metadata": {},
     "output_type": "execute_result"
    }
   ],
   "source": [
    "lis2 = [i*2 for i in lis1]\n",
    "lis2"
   ]
  },
  {
   "cell_type": "markdown",
   "metadata": {},
   "source": [
    "Test with larger volume of data"
   ]
  },
  {
   "cell_type": "code",
   "execution_count": 79,
   "metadata": {},
   "outputs": [],
   "source": [
    "lis1 = list(range(1,1000000))"
   ]
  },
  {
   "cell_type": "code",
   "execution_count": 85,
   "metadata": {
    "scrolled": true
   },
   "outputs": [
    {
     "name": "stdout",
     "output_type": "stream",
     "text": [
      "CPU times: total: 156 ms\n",
      "Wall time: 160 ms\n"
     ]
    },
    {
     "data": {
      "text/plain": [
       "[2, 4, 6, 8, 10, 12, 14, 16, 18, 20]"
      ]
     },
     "execution_count": 85,
     "metadata": {},
     "output_type": "execute_result"
    }
   ],
   "source": [
    "%%time\n",
    "lis2 = []\n",
    "for i in lis1:\n",
    "    lis2.append(i*2)\n",
    "lis2[0:10]"
   ]
  },
  {
   "cell_type": "code",
   "execution_count": 86,
   "metadata": {},
   "outputs": [
    {
     "name": "stdout",
     "output_type": "stream",
     "text": [
      "CPU times: total: 78.1 ms\n",
      "Wall time: 78.8 ms\n"
     ]
    },
    {
     "data": {
      "text/plain": [
       "[2, 4, 6, 8, 10, 12, 14, 16, 18, 20]"
      ]
     },
     "execution_count": 86,
     "metadata": {},
     "output_type": "execute_result"
    }
   ],
   "source": [
    "%%time\n",
    "lis2 = [i*2 for i in lis1]\n",
    "lis2[0:10]"
   ]
  },
  {
   "cell_type": "code",
   "execution_count": 87,
   "metadata": {},
   "outputs": [
    {
     "data": {
      "text/plain": [
       "[1, 4, 9, 16, 25, 36, 49, 64, 81, 100]"
      ]
     },
     "execution_count": 87,
     "metadata": {},
     "output_type": "execute_result"
    }
   ],
   "source": [
    "lis3 = [i*i for i in lis1]\n",
    "lis3[0:10]"
   ]
  },
  {
   "cell_type": "code",
   "execution_count": 88,
   "metadata": {},
   "outputs": [
    {
     "data": {
      "text/plain": [
       "[[1, 1],\n",
       " [2, 4],\n",
       " [3, 9],\n",
       " [4, 16],\n",
       " [5, 25],\n",
       " [6, 36],\n",
       " [7, 49],\n",
       " [8, 64],\n",
       " [9, 81],\n",
       " [10, 100]]"
      ]
     },
     "execution_count": 88,
     "metadata": {},
     "output_type": "execute_result"
    }
   ],
   "source": [
    "lis4 = [[i, i*i] for i in lis1]\n",
    "lis4[0:10]"
   ]
  },
  {
   "cell_type": "code",
   "execution_count": 90,
   "metadata": {},
   "outputs": [
    {
     "data": {
      "text/plain": [
       "[9, 16, 25, 36, 49, 64, 81, 100, 121, 144]"
      ]
     },
     "execution_count": 90,
     "metadata": {},
     "output_type": "execute_result"
    }
   ],
   "source": [
    "lis5 = [i*i for i in lis1 if i > 2]\n",
    "lis5[0:10]"
   ]
  }
 ],
 "metadata": {
  "kernelspec": {
   "display_name": "Python 3 (ipykernel)",
   "language": "python",
   "name": "python3"
  },
  "language_info": {
   "codemirror_mode": {
    "name": "ipython",
    "version": 3
   },
   "file_extension": ".py",
   "mimetype": "text/x-python",
   "name": "python",
   "nbconvert_exporter": "python",
   "pygments_lexer": "ipython3",
   "version": "3.10.9"
  }
 },
 "nbformat": 4,
 "nbformat_minor": 2
}
